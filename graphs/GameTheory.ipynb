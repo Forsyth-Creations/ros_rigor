{
 "cells": [
  {
   "cell_type": "code",
   "execution_count": 209,
   "metadata": {},
   "outputs": [],
   "source": [
    "import pandas as pd"
   ]
  },
  {
   "cell_type": "code",
   "execution_count": 210,
   "metadata": {},
   "outputs": [],
   "source": [
    "class Action():\n",
    "    def __init__(self, name, cost, safety):\n",
    "        self.name = name\n",
    "        self.cost = cost\n",
    "        self.safety = safety\n",
    "\n",
    "class Player():\n",
    "    def __init__(self, name, H, L):\n",
    "        self.name = name\n",
    "        self.H = H\n",
    "        self.L = L"
   ]
  },
  {
   "cell_type": "code",
   "execution_count": 211,
   "metadata": {},
   "outputs": [],
   "source": [
    "P = 10\n",
    "R_N = 1\n",
    "R_C = 1"
   ]
  },
  {
   "cell_type": "markdown",
   "metadata": {},
   "source": [
    "# Original"
   ]
  },
  {
   "cell_type": "code",
   "execution_count": 212,
   "metadata": {},
   "outputs": [],
   "source": [
    "S = Player(\"S\", Action(\"H\", 2, 1), \n",
    "                Action(\"L\", 1, -1))\n",
    "A = Player(\"A\", Action(\"H\", 1, -1), \n",
    "                Action(\"L\", 2, 1))"
   ]
  },
  {
   "cell_type": "markdown",
   "metadata": {},
   "source": [
    "# New"
   ]
  },
  {
   "cell_type": "code",
   "execution_count": 213,
   "metadata": {},
   "outputs": [],
   "source": [
    "S = Player(\"S\", Action(\"H\", 2, 1), \n",
    "                Action(\"L\", 1, -1))\n",
    "A = Player(\"A\", Action(\"H\", 4, -1), \n",
    "                Action(\"L\", 2, 1))"
   ]
  },
  {
   "cell_type": "markdown",
   "metadata": {},
   "source": [
    "# Top Left"
   ]
  },
  {
   "cell_type": "code",
   "execution_count": 214,
   "metadata": {},
   "outputs": [
    {
     "data": {
      "text/plain": [
       "(9, 5)"
      ]
     },
     "execution_count": 214,
     "metadata": {},
     "output_type": "execute_result"
    }
   ],
   "source": [
    "S_player = P * R_N - S.H.cost + S.H.safety\n",
    "A_player = P * R_N - A.H.cost + A.H.safety\n",
    "TL = (S_player, A_player)\n",
    "TL"
   ]
  },
  {
   "cell_type": "markdown",
   "metadata": {},
   "source": [
    "# Top Right"
   ]
  },
  {
   "cell_type": "code",
   "execution_count": 215,
   "metadata": {},
   "outputs": [
    {
     "data": {
      "text/plain": [
       "(9, 9)"
      ]
     },
     "execution_count": 215,
     "metadata": {},
     "output_type": "execute_result"
    }
   ],
   "source": [
    "S_player = P * R_C - S.H.cost + S.H.safety\n",
    "A_player = P * R_C - A.L.cost + A.L.safety\n",
    "TR = (S_player, A_player)\n",
    "TR"
   ]
  },
  {
   "cell_type": "markdown",
   "metadata": {},
   "source": [
    "# Bottom Left"
   ]
  },
  {
   "cell_type": "code",
   "execution_count": 216,
   "metadata": {},
   "outputs": [
    {
     "data": {
      "text/plain": [
       "(8, 5)"
      ]
     },
     "execution_count": 216,
     "metadata": {},
     "output_type": "execute_result"
    }
   ],
   "source": [
    "S_player = P * R_C - S.L.cost + S.L.safety\n",
    "A_player = P * R_C - A.H.cost + A.H.safety\n",
    "BL = (S_player, A_player)\n",
    "BL"
   ]
  },
  {
   "cell_type": "markdown",
   "metadata": {},
   "source": [
    "# Bottom Right"
   ]
  },
  {
   "cell_type": "code",
   "execution_count": 217,
   "metadata": {},
   "outputs": [
    {
     "data": {
      "text/plain": [
       "(8, 9)"
      ]
     },
     "execution_count": 217,
     "metadata": {},
     "output_type": "execute_result"
    }
   ],
   "source": [
    "S_player = P * R_N - S.L.cost + S.L.safety\n",
    "A_player = P * R_N - A.L.cost + A.L.safety\n",
    "BR = (S_player, A_player)\n",
    "BR"
   ]
  }
 ],
 "metadata": {
  "kernelspec": {
   "display_name": ".venv",
   "language": "python",
   "name": "python3"
  },
  "language_info": {
   "codemirror_mode": {
    "name": "ipython",
    "version": 3
   },
   "file_extension": ".py",
   "mimetype": "text/x-python",
   "name": "python",
   "nbconvert_exporter": "python",
   "pygments_lexer": "ipython3",
   "version": "3.12.3"
  }
 },
 "nbformat": 4,
 "nbformat_minor": 2
}
